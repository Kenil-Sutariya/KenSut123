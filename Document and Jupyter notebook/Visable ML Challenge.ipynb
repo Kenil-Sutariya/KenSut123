{
 "cells": [
  {
   "cell_type": "code",
   "execution_count": 314,
   "id": "0d52cc64-bd91-4011-bb8d-be40656e5f91",
   "metadata": {},
   "outputs": [],
   "source": [
    "# Importing libraries\n",
    "\n",
    "import re\n",
    "import pandas as pd\n",
    "import sklearn\n",
    "import pickle\n",
    "from sklearn.feature_extraction.text import TfidfVectorizer\n",
    "from sklearn.model_selection import train_test_split\n",
    "from sklearn.metrics import accuracy_score, precision_score, recall_score\n",
    "# Importing Csv file\n",
    "\n",
    "path = \"sample_data.csv\"\n",
    "df = pd.read_csv(path)"
   ]
  },
  {
   "cell_type": "code",
   "execution_count": 315,
   "id": "9e56b384-997c-4cbb-b69b-b9d65893291c",
   "metadata": {},
   "outputs": [],
   "source": [
    "# Data Preprocessing Steps\n",
    "\n",
    "df = df[df.apply(lambda row: row.astype(str).str.contains('^\\\\s*$').any(), axis=1) == False]\n",
    "\n",
    "df = df.dropna()\n",
    "\n",
    "query_list = df['text'].tolist()\n",
    "\n",
    "labels = df['label'].tolist()\n",
    "\n",
    "# punctuation in order to remove unnecessary signs and unwanted data\n",
    "query_with_no_punctuation = [re.sub(r'[^\\w\\s]', '', text).lower() for text in query_list]\n",
    "\n",
    "# I haven't used print function between cells in order to maintain readability"
   ]
  },
  {
   "cell_type": "code",
   "execution_count": 311,
   "id": "753bd2bc-2282-42af-a448-224cc8c5fe2c",
   "metadata": {},
   "outputs": [],
   "source": [
    "# Vectorization\n",
    "\n",
    "vectorizer = TfidfVectorizer()\n",
    "\n",
    "x_train, x_test, y_train, y_test = train_test_split(query_with_no_punctuation, labels, test_size=0.2)\n",
    "\n",
    "# Transform training and test data\n",
    "train_data = vectorizer.fit_transform(x_train)\n",
    "\n",
    "test_data = vectorizer.transform(x_test)\n",
    "\n",
    "# Saving TF-IDF training and test features to pickle file\n",
    "with open('train_data.pkl', 'wb') as f:\n",
    "    pickle.dump(train_data, f)\n",
    "\n",
    "with open('test_data.pkl', 'wb') as f:\n",
    "    pickle.dump(test_data, f)\n",
    "\n",
    "# Model\n",
    "model = DecisionTreeClassifier()\n",
    "\n",
    "# Training model\n",
    "model.fit(train_data, y_train)\n",
    "\n",
    "# Saveing  the trained model for use in future\n",
    "\n",
    "with open('final_model.pkl', 'wb') as f:\n",
    "    pickle.dump(model, f)"
   ]
  },
  {
   "cell_type": "code",
   "execution_count": 316,
   "id": "0a7c6f83-faed-41ea-b289-201d2eab1a75",
   "metadata": {},
   "outputs": [
    {
     "name": "stdout",
     "output_type": "stream",
     "text": [
      "Accuracy: 0.8357501016397886\n"
     ]
    }
   ],
   "source": [
    "# Prediction and accuracy\n",
    "\n",
    "with open('final_model.pkl', 'rb') as f:\n",
    "    decision_tree = pickle.load(f)\n",
    "\n",
    "with open('test_data.pkl', 'rb') as f:\n",
    "    test_data = pickle.load(f)\n",
    "\n",
    "predictions = decision_tree.predict(test_data)\n",
    "\n",
    "# Evaluating\n",
    "from sklearn.metrics import accuracy_score\n",
    "\n",
    "accuracy = accuracy_score(y_test, predictions)\n",
    "\n",
    "print(\"Accuracy:\", accuracy)"
   ]
  },
  {
   "cell_type": "code",
   "execution_count": 317,
   "id": "6f1f4af0-bc7d-434f-8410-932f4f65e019",
   "metadata": {},
   "outputs": [
    {
     "name": "stdout",
     "output_type": "stream",
     "text": [
      "The category of the query is: ['ft']\n"
     ]
    }
   ],
   "source": [
    "# After training the model, if anyone wants to check the model with random data, then check below code.\n",
    "\n",
    "with open('final_model.pkl', 'rb') as f:\n",
    "    model = pickle.load(f)\n",
    "\n",
    "query = \"api\"\n",
    "query_vector = vectorizer.transform([query])\n",
    "\n",
    "# Making a prediction\n",
    "pred = model.predict(query_vector)\n",
    "\n",
    "print(f\"The category of the query is: {pred}\")"
   ]
  }
 ],
 "metadata": {
  "kernelspec": {
   "display_name": "Python 3 (ipykernel)",
   "language": "python",
   "name": "python3"
  },
  "language_info": {
   "codemirror_mode": {
    "name": "ipython",
    "version": 3
   },
   "file_extension": ".py",
   "mimetype": "text/x-python",
   "name": "python",
   "nbconvert_exporter": "python",
   "pygments_lexer": "ipython3",
   "version": "3.8.18"
  }
 },
 "nbformat": 4,
 "nbformat_minor": 5
}
